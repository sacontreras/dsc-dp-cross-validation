{
 "cells": [
  {
   "cell_type": "markdown",
   "metadata": {},
   "source": [
    "# Cross-Validation Forward Selection of Features"
   ]
  },
  {
   "cell_type": "code",
   "execution_count": 1,
   "metadata": {},
   "outputs": [],
   "source": [
    "import pandas as pd\n",
    "from IPython.core.display import HTML\n",
    "import numpy as np\n",
    "import scjpnlib.utils as scjpnutils\n",
    "import scjpnlib.regression.api as scjpnregression\n",
    "\n",
    "kc_house_candidate_cv_selection_df = pd.read_csv('kc_house_candidate_cv_selection_data.csv')\n",
    "target = 'price'\n",
    "kc_house_candidate_cv_selection_df = kc_house_candidate_cv_selection_df.drop(['id', 'date'], axis=1)"
   ]
  },
  {
   "cell_type": "code",
   "execution_count": 2,
   "metadata": {
    "scrolled": false
   },
   "outputs": [
    {
     "data": {
      "text/html": [
       "<br><br>Builing all $\\sum_{i=1}^{17}{17 \\choose i}=$ ${17 \\choose 1}$ + ${17 \\choose 2}$ + ${17 \\choose 3}$ + ${17 \\choose 4}$ + ${17 \\choose 5}$ + ${17 \\choose 6}$ + ${17 \\choose 7}$ + ${17 \\choose 8}$ + ${17 \\choose 9}$ + ${17 \\choose 10}$ + ${17 \\choose 11}$ + ${17 \\choose 12}$ + ${17 \\choose 13}$ + ${17 \\choose 14}$ + ${17 \\choose 15}$ + ${17 \\choose 16}$ + ${17 \\choose 17}$ $=131071$ combinations of feature set: Index(['bedrooms', 'bathrooms', 'sqft_living', 'sqft_lot', 'floors',\n",
       "       'condition', 'grade', 'sqft_above', 'sqft_basement', 'yr_built',\n",
       "       'yr_renovated', 'lat', 'long', 'sqft_living15', 'sqft_lot15',\n",
       "       'waterfront', 'view'],\n",
       "      dtype='object')..."
      ],
      "text/plain": [
       "<IPython.core.display.HTML object>"
      ]
     },
     "metadata": {},
     "output_type": "display_data"
    },
    {
     "data": {
      "text/html": [
       "All done!"
      ],
      "text/plain": [
       "<IPython.core.display.HTML object>"
      ]
     },
     "metadata": {},
     "output_type": "display_data"
    },
    {
     "data": {
      "text/html": [
       "<p><br><br>Cross-validating ${17 \\choose 1}=17$ combinations of 1 features (out of 17) over 5 folds using score <b>condition_no__and__pvals__and__rsquared__and__rsquared_adj__and__rmse__and__delta_rmse</b> and target cond. no = 100..."
      ],
      "text/plain": [
       "<IPython.core.display.HTML object>"
      ]
     },
     "metadata": {},
     "output_type": "display_data"
    },
    {
     "name": "stdout",
     "output_type": "stream",
     "text": [
      "new best condition_no__and__pvals__and__rsquared__and__rsquared_adj__and__rmse__and__delta_rmse score: (10.550688747476446, 0.11775715616091698, 0.11770608743809796, [0.0], 0.10768531606868144, 0.002274986264081266), from feature-set combo: ['bedrooms']\n",
      "new best condition_no__and__pvals__and__rsquared__and__rsquared_adj__and__rmse__and__delta_rmse score: (8.824142016689917, 0.27057695846583263, 0.27053473573276826, [0.0], 0.09791503790664277, 0.0016765407315861875), from feature-set combo: ['bathrooms']\n",
      "new best condition_no__and__pvals__and__rsquared__and__rsquared_adj__and__rmse__and__delta_rmse score: (10.26365157412231, 0.4552909082419676, 0.45525937769767, [0.0], 0.08461399766273019, 0.001682632138358503), from feature-set combo: ['sqft_living']\n",
      "new best condition_no__and__pvals__and__rsquared__and__rsquared_adj__and__rmse__and__delta_rmse score: (10.398457054048725, 0.4951766976660979, 0.49514747591718766, [0.0], 0.08145720304709997, 0.0021754913043353307), from feature-set combo: ['grade']\n"
     ]
    },
    {
     "data": {
      "text/html": [
       "<p>cv_selection chose the best of 4 1-feature combinations that met the constraints (out of 17 considered)"
      ],
      "text/plain": [
       "<IPython.core.display.HTML object>"
      ]
     },
     "metadata": {},
     "output_type": "display_data"
    },
    {
     "data": {
      "text/html": [
       "<p>13 1-feature combinations (out of 17 considered) failed to meet the constraints<p><br><br>"
      ],
      "text/plain": [
       "<IPython.core.display.HTML object>"
      ]
     },
     "metadata": {},
     "output_type": "display_data"
    },
    {
     "data": {
      "text/html": [
       "<p><br><br>Cross-validating ${17 \\choose 2}=136$ combinations of 2 features (out of 17) over 5 folds using score <b>condition_no__and__pvals__and__rsquared__and__rsquared_adj__and__rmse__and__delta_rmse</b> and target cond. no = 100..."
      ],
      "text/plain": [
       "<IPython.core.display.HTML object>"
      ]
     },
     "metadata": {},
     "output_type": "display_data"
    },
    {
     "name": "stdout",
     "output_type": "stream",
     "text": [
      "new best condition_no__and__pvals__and__rsquared__and__rsquared_adj__and__rmse__and__delta_rmse score: (13.08647167741887, 0.5017313710678188, 0.5016736830669591, [1.9330888355839872e-46, 0.0], 0.08092658010986253, 0.0022801953656673007), from feature-set combo: ['bedrooms', 'grade']\n",
      "new best condition_no__and__pvals__and__rsquared__and__rsquared_adj__and__rmse__and__delta_rmse score: (16.042351414364454, 0.5028625277585558, 0.5028049707184202, [9.243015135852083e-55, 0.0], 0.08083471682385225, 0.0020669221167722547), from feature-set combo: ['bathrooms', 'grade']\n",
      "new best condition_no__and__pvals__and__rsquared__and__rsquared_adj__and__rmse__and__delta_rmse score: (20.07938179656916, 0.5466941558612655, 0.5466416735126043, [0.0, 0.0], 0.0771886568815063, 0.0024168409032044617), from feature-set combo: ['sqft_living', 'grade']\n",
      "new best condition_no__and__pvals__and__rsquared__and__rsquared_adj__and__rmse__and__delta_rmse score: (13.064300518475596, 0.5642255031054388, 0.5641750504791301, [0.0, 0.0], 0.07568186362853221, 0.0014746220851590442), from feature-set combo: ['grade', 'yr_built']\n",
      "new best condition_no__and__pvals__and__rsquared__and__rsquared_adj__and__rmse__and__delta_rmse score: (12.119546585458743, 0.6330652824013999, 0.633022799832274, [0.0, 0.0], 0.06944725584394129, 0.0014287320020998973), from feature-set combo: ['grade', 'lat']\n"
     ]
    },
    {
     "data": {
      "text/html": [
       "<p>DISCARDED 120 2-feature combinations that were not based on prior optimal feature-combo ['grade']"
      ],
      "text/plain": [
       "<IPython.core.display.HTML object>"
      ]
     },
     "metadata": {},
     "output_type": "display_data"
    },
    {
     "data": {
      "text/html": [
       "<p>cv_selection chose the best of 5 2-feature combinations that met the constraints (out of 16 considered)"
      ],
      "text/plain": [
       "<IPython.core.display.HTML object>"
      ]
     },
     "metadata": {},
     "output_type": "display_data"
    },
    {
     "data": {
      "text/html": [
       "<p>11 2-feature combinations (out of 16 considered) failed to meet the constraints<p><br><br>"
      ],
      "text/plain": [
       "<IPython.core.display.HTML object>"
      ]
     },
     "metadata": {},
     "output_type": "display_data"
    },
    {
     "data": {
      "text/html": [
       "<p><br><br>Cross-validating ${17 \\choose 3}=680$ combinations of 3 features (out of 17) over 5 folds using score <b>condition_no__and__pvals__and__rsquared__and__rsquared_adj__and__rmse__and__delta_rmse</b> and target cond. no = 100..."
      ],
      "text/plain": [
       "<IPython.core.display.HTML object>"
      ]
     },
     "metadata": {},
     "output_type": "display_data"
    },
    {
     "name": "stdout",
     "output_type": "stream",
     "text": [
      "new best condition_no__and__pvals__and__rsquared__and__rsquared_adj__and__rmse__and__delta_rmse score: (15.073680331186875, 0.6451288165963377, 0.6450671841950606, [3.6994964143231534e-109, 0.0, 0.0], 0.06829614458853493, 0.0017268499065701964), from feature-set combo: ['bedrooms', 'grade', 'lat']\n",
      "new best condition_no__and__pvals__and__rsquared__and__rsquared_adj__and__rmse__and__delta_rmse score: (18.38823472152464, 0.6470512670267621, 0.6469899685052851, [8.564695949114919e-141, 0.0, 0.0], 0.06811081141186985, 0.001308487612980025), from feature-set combo: ['bathrooms', 'grade', 'lat']\n",
      "new best condition_no__and__pvals__and__rsquared__and__rsquared_adj__and__rmse__and__delta_rmse score: (23.05942703166772, 0.6970922911815054, 0.6970396835629049, [0.0, 0.0, 0.0], 0.06309748107130446, 0.0022482294544574734), from feature-set combo: ['sqft_living', 'grade', 'lat']\n"
     ]
    },
    {
     "data": {
      "text/html": [
       "<p>DISCARDED 665 3-feature combinations that were not based on prior optimal feature-combo ['grade', 'lat']"
      ],
      "text/plain": [
       "<IPython.core.display.HTML object>"
      ]
     },
     "metadata": {},
     "output_type": "display_data"
    },
    {
     "data": {
      "text/html": [
       "<p>cv_selection chose the best of 3 3-feature combinations that met the constraints (out of 15 considered)"
      ],
      "text/plain": [
       "<IPython.core.display.HTML object>"
      ]
     },
     "metadata": {},
     "output_type": "display_data"
    },
    {
     "data": {
      "text/html": [
       "<p>12 3-feature combinations (out of 15 considered) failed to meet the constraints<p><br><br>"
      ],
      "text/plain": [
       "<IPython.core.display.HTML object>"
      ]
     },
     "metadata": {},
     "output_type": "display_data"
    },
    {
     "data": {
      "text/html": [
       "<p><br><br>Cross-validating ${17 \\choose 4}=2380$ combinations of 4 features (out of 17) over 5 folds using score <b>condition_no__and__pvals__and__rsquared__and__rsquared_adj__and__rmse__and__delta_rmse</b> and target cond. no = 100..."
      ],
      "text/plain": [
       "<IPython.core.display.HTML object>"
      ]
     },
     "metadata": {},
     "output_type": "display_data"
    },
    {
     "name": "stdout",
     "output_type": "stream",
     "text": [
      "new best condition_no__and__pvals__and__rsquared__and__rsquared_adj__and__rmse__and__delta_rmse score: (29.051838743357962, 0.6994679292317054, 0.6993983318314518, [9.765214661573847e-30, 0.0, 0.0, 0.0], 0.06284950916483452, 0.002281756868032245), from feature-set combo: ['bedrooms', 'sqft_living', 'grade', 'lat']\n",
      "new best condition_no__and__pvals__and__rsquared__and__rsquared_adj__and__rmse__and__delta_rmse score: (25.49618018343711, 0.7117125293046893, 0.7116457675152755, [0.0, 2.0004339871535943e-184, 0.0, 0.0], 0.06155598800534105, 0.002056314337875799), from feature-set combo: ['sqft_living', 'condition', 'grade', 'lat']\n",
      "new best condition_no__and__pvals__and__rsquared__and__rsquared_adj__and__rmse__and__delta_rmse score: (25.8503008067417, 0.7323112838668063, 0.7322492923451527, [0.0, 0.0, 0.0, 0.0], 0.05931658064081171, 0.0014376163532943422), from feature-set combo: ['sqft_living', 'grade', 'yr_built', 'lat']\n"
     ]
    },
    {
     "data": {
      "text/html": [
       "<p>DISCARDED 2366 4-feature combinations that were not based on prior optimal feature-combo ['sqft_living', 'grade', 'lat']"
      ],
      "text/plain": [
       "<IPython.core.display.HTML object>"
      ]
     },
     "metadata": {},
     "output_type": "display_data"
    },
    {
     "data": {
      "text/html": [
       "<p>cv_selection chose the best of 3 4-feature combinations that met the constraints (out of 14 considered)"
      ],
      "text/plain": [
       "<IPython.core.display.HTML object>"
      ]
     },
     "metadata": {},
     "output_type": "display_data"
    },
    {
     "data": {
      "text/html": [
       "<p>11 4-feature combinations (out of 14 considered) failed to meet the constraints<p><br><br>"
      ],
      "text/plain": [
       "<IPython.core.display.HTML object>"
      ]
     },
     "metadata": {},
     "output_type": "display_data"
    },
    {
     "data": {
      "text/html": [
       "<p><br><br>Cross-validating ${17 \\choose 5}=6188$ combinations of 5 features (out of 17) over 5 folds using score <b>condition_no__and__pvals__and__rsquared__and__rsquared_adj__and__rmse__and__delta_rmse</b> and target cond. no = 100..."
      ],
      "text/plain": [
       "<IPython.core.display.HTML object>"
      ]
     },
     "metadata": {},
     "output_type": "display_data"
    },
    {
     "name": "stdout",
     "output_type": "stream",
     "text": [
      "new best condition_no__and__pvals__and__rsquared__and__rsquared_adj__and__rmse__and__delta_rmse score: (31.862028638854316, 0.7345785504174158, 0.7345017128859908, [9.756250453030607e-32, 0.0, 0.0, 0.0, 0.0], 0.059064821158175074, 0.0014607329589489695), from feature-set combo: ['bedrooms', 'sqft_living', 'grade', 'yr_built', 'lat']\n",
      "new best condition_no__and__pvals__and__rsquared__and__rsquared_adj__and__rmse__and__delta_rmse score: (30.51998266886186, 0.7355843132592949, 0.7355077668893035, [3.443567300842033e-46, 0.0, 0.0, 0.0, 0.0], 0.0589528114103033, 0.001500549212537891), from feature-set combo: ['bathrooms', 'sqft_living', 'grade', 'yr_built', 'lat']\n",
      "new best condition_no__and__pvals__and__rsquared__and__rsquared_adj__and__rmse__and__delta_rmse score: (27.900067714774945, 0.7359260316337279, 0.7358495841863517, [0.0, 9.453776167886965e-49, 0.0, 0.0, 0.0], 0.058914700774619556, 0.0012502587591806265), from feature-set combo: ['sqft_living', 'condition', 'grade', 'yr_built', 'lat']\n",
      "new best condition_no__and__pvals__and__rsquared__and__rsquared_adj__and__rmse__and__delta_rmse score: (28.371560496264436, 0.7386510732717173, 0.7385754147002787, [0.0, 0.0, 0.0, 0.0, 2.7152664980067946e-81], 0.058609824441125016, 0.0008537549774103856), from feature-set combo: ['sqft_living', 'grade', 'yr_built', 'lat', 'sqft_living15']\n",
      "new best condition_no__and__pvals__and__rsquared__and__rsquared_adj__and__rmse__and__delta_rmse score: (25.867295209026416, 0.7424752012384317, 0.7424006497235582, [0.0, 0.0, 0.0, 0.0, 3.280113183971156e-124], 0.05817934793155359, 0.001239397001571374), from feature-set combo: ['sqft_living', 'grade', 'yr_built', 'lat', 'waterfront']\n",
      "new best condition_no__and__pvals__and__rsquared__and__rsquared_adj__and__rmse__and__delta_rmse score: (25.93765104256654, 0.7455791390572543, 0.7455054861128083, [0.0, 0.0, 0.0, 0.0, 3.302006071723784e-180], 0.0578275974000446, 0.0011391006450804154), from feature-set combo: ['sqft_living', 'grade', 'yr_built', 'lat', 'view']\n"
     ]
    },
    {
     "data": {
      "text/html": [
       "<p>DISCARDED 6175 5-feature combinations that were not based on prior optimal feature-combo ['sqft_living', 'grade', 'yr_built', 'lat']"
      ],
      "text/plain": [
       "<IPython.core.display.HTML object>"
      ]
     },
     "metadata": {},
     "output_type": "display_data"
    },
    {
     "data": {
      "text/html": [
       "<p>cv_selection chose the best of 6 5-feature combinations that met the constraints (out of 13 considered)"
      ],
      "text/plain": [
       "<IPython.core.display.HTML object>"
      ]
     },
     "metadata": {},
     "output_type": "display_data"
    },
    {
     "data": {
      "text/html": [
       "<p>7 5-feature combinations (out of 13 considered) failed to meet the constraints<p><br><br>"
      ],
      "text/plain": [
       "<IPython.core.display.HTML object>"
      ]
     },
     "metadata": {},
     "output_type": "display_data"
    },
    {
     "data": {
      "text/html": [
       "<p><br><br>Cross-validating ${17 \\choose 6}=12376$ combinations of 6 features (out of 17) over 5 folds using score <b>condition_no__and__pvals__and__rsquared__and__rsquared_adj__and__rmse__and__delta_rmse</b> and target cond. no = 100..."
      ],
      "text/plain": [
       "<IPython.core.display.HTML object>"
      ]
     },
     "metadata": {},
     "output_type": "display_data"
    },
    {
     "name": "stdout",
     "output_type": "stream",
     "text": [
      "new best condition_no__and__pvals__and__rsquared__and__rsquared_adj__and__rmse__and__delta_rmse score: (31.964560018434668, 0.7469152624359168, 0.746827337969435, [2.6612737911328932e-20, 0.0, 0.0, 0.0, 0.0, 4.9952700059502587e-169], 0.057675564108454, 0.0011666164751145361), from feature-set combo: ['bedrooms', 'sqft_living', 'grade', 'yr_built', 'lat', 'view']\n",
      "new best condition_no__and__pvals__and__rsquared__and__rsquared_adj__and__rmse__and__delta_rmse score: (30.58913645847509, 0.7485802886523695, 0.748492942635542, [2.678942568529295e-44, 0.0, 0.0, 0.0, 0.0, 1.1668855784915331e-177], 0.05748549534620766, 0.0011699868428764928), from feature-set combo: ['bathrooms', 'sqft_living', 'grade', 'yr_built', 'lat', 'view']\n",
      "new best condition_no__and__pvals__and__rsquared__and__rsquared_adj__and__rmse__and__delta_rmse score: (27.98626414657005, 0.7491105016301959, 0.7490233398127926, [0.0, 2.186763153169427e-50, 0.0, 4.2648239146037435e-232, 0.0, 7.535191925029487e-182], 0.05742483530390306, 0.0009506321287654801), from feature-set combo: ['sqft_living', 'condition', 'grade', 'yr_built', 'lat', 'view']\n",
      "new best condition_no__and__pvals__and__rsquared__and__rsquared_adj__and__rmse__and__delta_rmse score: (28.483856566605066, 0.7500693791452753, 0.7499825504497626, [0.0, 0.0, 0.0, 0.0, 1.787779561055876e-60, 1.5162618846456718e-159], 0.05731490867743404, 0.0006643941605113945), from feature-set combo: ['sqft_living', 'grade', 'yr_built', 'lat', 'sqft_living15', 'view']\n",
      "new best condition_no__and__pvals__and__rsquared__and__rsquared_adj__and__rmse__and__delta_rmse score: (25.9446005024072, 0.7514939256921472, 0.7514075919000579, [0.0, 0.0, 0.0, 0.0, 1.4999323877568508e-73, 8.019592966311212e-124], 0.05715135867358018, 0.0011050669746757614), from feature-set combo: ['sqft_living', 'grade', 'yr_built', 'lat', 'waterfront', 'view']\n"
     ]
    },
    {
     "data": {
      "text/html": [
       "<p>DISCARDED 12364 6-feature combinations that were not based on prior optimal feature-combo ['sqft_living', 'grade', 'yr_built', 'lat', 'view']"
      ],
      "text/plain": [
       "<IPython.core.display.HTML object>"
      ]
     },
     "metadata": {},
     "output_type": "display_data"
    },
    {
     "data": {
      "text/html": [
       "<p>cv_selection chose the best of 5 6-feature combinations that met the constraints (out of 12 considered)"
      ],
      "text/plain": [
       "<IPython.core.display.HTML object>"
      ]
     },
     "metadata": {},
     "output_type": "display_data"
    },
    {
     "data": {
      "text/html": [
       "<p>7 6-feature combinations (out of 12 considered) failed to meet the constraints<p><br><br>"
      ],
      "text/plain": [
       "<IPython.core.display.HTML object>"
      ]
     },
     "metadata": {},
     "output_type": "display_data"
    },
    {
     "data": {
      "text/html": [
       "<p><br><br>Cross-validating ${17 \\choose 7}=19448$ combinations of 7 features (out of 17) over 5 folds using score <b>condition_no__and__pvals__and__rsquared__and__rsquared_adj__and__rmse__and__delta_rmse</b> and target cond. no = 100..."
      ],
      "text/plain": [
       "<IPython.core.display.HTML object>"
      ]
     },
     "metadata": {},
     "output_type": "display_data"
    },
    {
     "name": "stdout",
     "output_type": "stream",
     "text": [
      "new best condition_no__and__pvals__and__rsquared__and__rsquared_adj__and__rmse__and__delta_rmse score: (31.980368832000142, 0.7525501557546994, 0.7524498552938823, [9.883968326380254e-17, 0.0, 0.0, 0.0, 0.0, 2.010736566632183e-70, 6.3053240152003574e-117], 0.05702978898180794, 0.001128510618087028), from feature-set combo: ['bedrooms', 'sqft_living', 'grade', 'yr_built', 'lat', 'waterfront', 'view']\n",
      "new best condition_no__and__pvals__and__rsquared__and__rsquared_adj__and__rmse__and__delta_rmse score: (30.591871128813473, 0.754503780359391, 0.7544042717749146, [8.07261592691858e-46, 0.0, 0.0, 0.0, 0.0, 1.1420856144589214e-74, 9.769172606988575e-122], 0.05680415549321771, 0.0011031611428931915), from feature-set combo: ['bathrooms', 'sqft_living', 'grade', 'yr_built', 'lat', 'waterfront', 'view']\n",
      "new best condition_no__and__pvals__and__rsquared__and__rsquared_adj__and__rmse__and__delta_rmse score: (27.993560096798245, 0.7550302682569947, 0.7549309730744188, [0.0, 1.6695034836084943e-51, 0.0, 8.958391207309584e-230, 0.0, 6.266274829943447e-75, 6.02579170118761e-125], 0.05674322624059713, 0.0009086084595279709), from feature-set combo: ['sqft_living', 'condition', 'grade', 'yr_built', 'lat', 'waterfront', 'view']\n",
      "new best condition_no__and__pvals__and__rsquared__and__rsquared_adj__and__rmse__and__delta_rmse score: (28.485566761768716, 0.7560650548518684, 0.7559661791025958, [0.0, 0.0, 0.0, 0.0, 8.490848418791226e-63, 7.665457270653326e-76, 1.1759146318135877e-106], 0.05662313572339848, 0.0005490308356817062), from feature-set combo: ['sqft_living', 'grade', 'yr_built', 'lat', 'sqft_living15', 'waterfront', 'view']\n"
     ]
    },
    {
     "data": {
      "text/html": [
       "<p>DISCARDED 19437 7-feature combinations that were not based on prior optimal feature-combo ['sqft_living', 'grade', 'yr_built', 'lat', 'waterfront', 'view']"
      ],
      "text/plain": [
       "<IPython.core.display.HTML object>"
      ]
     },
     "metadata": {},
     "output_type": "display_data"
    },
    {
     "data": {
      "text/html": [
       "<p>cv_selection chose the best of 4 7-feature combinations that met the constraints (out of 11 considered)"
      ],
      "text/plain": [
       "<IPython.core.display.HTML object>"
      ]
     },
     "metadata": {},
     "output_type": "display_data"
    },
    {
     "data": {
      "text/html": [
       "<p>7 7-feature combinations (out of 11 considered) failed to meet the constraints<p><br><br>"
      ],
      "text/plain": [
       "<IPython.core.display.HTML object>"
      ]
     },
     "metadata": {},
     "output_type": "display_data"
    },
    {
     "data": {
      "text/html": [
       "<p><br><br>Cross-validating ${17 \\choose 8}=24310$ combinations of 8 features (out of 17) over 5 folds using score <b>condition_no__and__pvals__and__rsquared__and__rsquared_adj__and__rmse__and__delta_rmse</b> and target cond. no = 100..."
      ],
      "text/plain": [
       "<IPython.core.display.HTML object>"
      ]
     },
     "metadata": {},
     "output_type": "display_data"
    },
    {
     "name": "stdout",
     "output_type": "stream",
     "text": [
      "new best condition_no__and__pvals__and__rsquared__and__rsquared_adj__and__rmse__and__delta_rmse score: (35.43202360393259, 0.756915942250765, 0.7568033290407213, [4.6765668206919e-13, 0.0, 0.0, 0.0, 0.0, 8.720438215087053e-60, 7.458402099437449e-73, 2.433085283992443e-101], 0.05652432072874619, 0.0005849963395225353), from feature-set combo: ['bedrooms', 'sqft_living', 'grade', 'yr_built', 'lat', 'sqft_living15', 'waterfront', 'view']\n",
      "new best condition_no__and__pvals__and__rsquared__and__rsquared_adj__and__rmse__and__delta_rmse score: (34.591382752498035, 0.7596458041313399, 0.7595344555817208, [3.0469765072868343e-55, 2.347737367586668e-199, 0.0, 0.0, 0.0, 1.6580001686323257e-72, 2.6331226875483423e-77, 2.7519605107359654e-103], 0.05620597059995834, 0.0005938079374000566), from feature-set combo: ['bathrooms', 'sqft_living', 'grade', 'yr_built', 'lat', 'sqft_living15', 'waterfront', 'view']\n",
      "new best condition_no__and__pvals__and__rsquared__and__rsquared_adj__and__rmse__and__delta_rmse score: (30.552903625847325, 0.7598002996544347, 0.759689022674161, [0.0, 7.932724709031568e-55, 0.0, 5.3958714482552054e-241, 0.0, 3.5217135795389534e-66, 2.1689138546111176e-77, 2.5335029920332392e-107], 0.05618779319655097, 0.0005221487668984378), from feature-set combo: ['sqft_living', 'condition', 'grade', 'yr_built', 'lat', 'sqft_living15', 'waterfront', 'view']\n"
     ]
    },
    {
     "data": {
      "text/html": [
       "<p>DISCARDED 24300 8-feature combinations that were not based on prior optimal feature-combo ['sqft_living', 'grade', 'yr_built', 'lat', 'sqft_living15', 'waterfront', 'view']"
      ],
      "text/plain": [
       "<IPython.core.display.HTML object>"
      ]
     },
     "metadata": {},
     "output_type": "display_data"
    },
    {
     "data": {
      "text/html": [
       "<p>cv_selection chose the best of 3 8-feature combinations that met the constraints (out of 10 considered)"
      ],
      "text/plain": [
       "<IPython.core.display.HTML object>"
      ]
     },
     "metadata": {},
     "output_type": "display_data"
    },
    {
     "data": {
      "text/html": [
       "<p>7 8-feature combinations (out of 10 considered) failed to meet the constraints<p><br><br>"
      ],
      "text/plain": [
       "<IPython.core.display.HTML object>"
      ]
     },
     "metadata": {},
     "output_type": "display_data"
    },
    {
     "data": {
      "text/html": [
       "<p><br><br>Cross-validating ${17 \\choose 9}=24310$ combinations of 9 features (out of 17) over 5 folds using score <b>condition_no__and__pvals__and__rsquared__and__rsquared_adj__and__rmse__and__delta_rmse</b> and target cond. no = 100..."
      ],
      "text/plain": [
       "<IPython.core.display.HTML object>"
      ]
     },
     "metadata": {},
     "output_type": "display_data"
    },
    {
     "name": "stdout",
     "output_type": "stream",
     "text": [
      "new best condition_no__and__pvals__and__rsquared__and__rsquared_adj__and__rmse__and__delta_rmse score: (37.6826014904572, 0.7608439182724591, 0.7607192683623846, [1.7889207349708052e-16, 0.0, 7.178740933818916e-58, 0.0, 3.631554243891449e-242, 0.0, 8.026673914377153e-63, 4.643578553673505e-74, 1.716711791581605e-101], 0.05606564286612921, 0.000517959759611751), from feature-set combo: ['bedrooms', 'sqft_living', 'condition', 'grade', 'yr_built', 'lat', 'sqft_living15', 'waterfront', 'view']\n",
      "new best condition_no__and__pvals__and__rsquared__and__rsquared_adj__and__rmse__and__delta_rmse score: (36.71628312514383, 0.7629658059720726, 0.7628422620065612, [2.4708109644234086e-49, 7.455297227218482e-191, 8.014980757908641e-50, 0.0, 1.2569994599165932e-287, 0.0, 2.059645020458446e-75, 1.0240249954136835e-78, 4.522320237466541e-104], 0.05581630514668747, 0.0005420404752478028), from feature-set combo: ['bathrooms', 'sqft_living', 'condition', 'grade', 'yr_built', 'lat', 'sqft_living15', 'waterfront', 'view']\n",
      "new best condition_no__and__pvals__and__rsquared__and__rsquared_adj__and__rmse__and__delta_rmse score: (30.781366022906717, 0.7641228697545, 0.7639999288592583, [0.0, 2.286352131293902e-63, 2.3232757484381992e-70, 0.0, 3.5278421003544324e-301, 0.0, 1.5922214112658357e-83, 7.397522148013244e-77, 2.218905005453981e-114], 0.05568007599527717, 0.0005296896824839678), from feature-set combo: ['sqft_living', 'floors', 'condition', 'grade', 'yr_built', 'lat', 'sqft_living15', 'waterfront', 'view']\n"
     ]
    },
    {
     "data": {
      "text/html": [
       "<p>DISCARDED 24301 9-feature combinations that were not based on prior optimal feature-combo ['sqft_living', 'condition', 'grade', 'yr_built', 'lat', 'sqft_living15', 'waterfront', 'view']"
      ],
      "text/plain": [
       "<IPython.core.display.HTML object>"
      ]
     },
     "metadata": {},
     "output_type": "display_data"
    },
    {
     "data": {
      "text/html": [
       "<p>cv_selection chose the best of 3 9-feature combinations that met the constraints (out of 9 considered)"
      ],
      "text/plain": [
       "<IPython.core.display.HTML object>"
      ]
     },
     "metadata": {},
     "output_type": "display_data"
    },
    {
     "data": {
      "text/html": [
       "<p>6 9-feature combinations (out of 9 considered) failed to meet the constraints<p><br><br>"
      ],
      "text/plain": [
       "<IPython.core.display.HTML object>"
      ]
     },
     "metadata": {},
     "output_type": "display_data"
    },
    {
     "data": {
      "text/html": [
       "<p><br><br>Cross-validating ${17 \\choose 10}=19448$ combinations of 10 features (out of 17) over 5 folds using score <b>condition_no__and__pvals__and__rsquared__and__rsquared_adj__and__rmse__and__delta_rmse</b> and target cond. no = 100..."
      ],
      "text/plain": [
       "<IPython.core.display.HTML object>"
      ]
     },
     "metadata": {},
     "output_type": "display_data"
    },
    {
     "name": "stdout",
     "output_type": "stream",
     "text": [
      "new best condition_no__and__pvals__and__rsquared__and__rsquared_adj__and__rmse__and__delta_rmse score: (37.95835481481171, 0.7651133435936848, 0.7649773083240629, [8.392663102357403e-16, 0.0, 1.058917403610346e-62, 1.187713556658611e-73, 0.0, 1.6125833601737452e-302, 0.0, 8.896788347978766e-80, 1.3643409882017646e-73, 2.100758052124111e-108], 0.05556308446189258, 0.0005567759552449231), from feature-set combo: ['bedrooms', 'sqft_living', 'floors', 'condition', 'grade', 'yr_built', 'lat', 'sqft_living15', 'waterfront', 'view']\n",
      "new best condition_no__and__pvals__and__rsquared__and__rsquared_adj__and__rmse__and__delta_rmse score: (37.106264379090376, 0.7659631889443448, 0.7658276458654621, [1.9659526477243157e-29, 5.3897317368783824e-192, 8.024729646809386e-45, 2.640352548811549e-63, 0.0, 0.0, 0.0, 1.0566619469096609e-88, 6.0021619368980755e-78, 1.0430277399055048e-110], 0.05546239294761819, 0.0005383634639981788), from feature-set combo: ['bathrooms', 'sqft_living', 'floors', 'condition', 'grade', 'yr_built', 'lat', 'sqft_living15', 'waterfront', 'view']\n"
     ]
    },
    {
     "data": {
      "text/html": [
       "<p>DISCARDED 19440 10-feature combinations that were not based on prior optimal feature-combo ['sqft_living', 'floors', 'condition', 'grade', 'yr_built', 'lat', 'sqft_living15', 'waterfront', 'view']"
      ],
      "text/plain": [
       "<IPython.core.display.HTML object>"
      ]
     },
     "metadata": {},
     "output_type": "display_data"
    },
    {
     "data": {
      "text/html": [
       "<p>cv_selection chose the best of 2 10-feature combinations that met the constraints (out of 8 considered)"
      ],
      "text/plain": [
       "<IPython.core.display.HTML object>"
      ]
     },
     "metadata": {},
     "output_type": "display_data"
    },
    {
     "data": {
      "text/html": [
       "<p>6 10-feature combinations (out of 8 considered) failed to meet the constraints<p><br><br>"
      ],
      "text/plain": [
       "<IPython.core.display.HTML object>"
      ]
     },
     "metadata": {},
     "output_type": "display_data"
    },
    {
     "data": {
      "text/html": [
       "<p><br><br>Cross-validating ${17 \\choose 11}=12376$ combinations of 11 features (out of 17) over 5 folds using score <b>condition_no__and__pvals__and__rsquared__and__rsquared_adj__and__rmse__and__delta_rmse</b> and target cond. no = 100..."
      ],
      "text/plain": [
       "<IPython.core.display.HTML object>"
      ]
     },
     "metadata": {},
     "output_type": "display_data"
    },
    {
     "name": "stdout",
     "output_type": "stream",
     "text": [
      "new best condition_no__and__pvals__and__rsquared__and__rsquared_adj__and__rmse__and__delta_rmse score: (42.03735857690249, 0.767373232491666, 0.7672250248160764, [1.9571705874681398e-22, 2.1778221039717163e-36, 4.364209074954858e-208, 1.761350620726711e-42, 2.7795490063173725e-66, 0.0, 0.0, 0.0, 7.582783821516294e-85, 3.319515974674874e-74, 3.223474140137781e-103], 0.055295107214049344, 0.0005719447955257389), from feature-set combo: ['bedrooms', 'bathrooms', 'sqft_living', 'floors', 'condition', 'grade', 'yr_built', 'lat', 'sqft_living15', 'waterfront', 'view']\n"
     ]
    },
    {
     "data": {
      "text/html": [
       "<p>DISCARDED 12369 11-feature combinations that were not based on prior optimal feature-combo ['bathrooms', 'sqft_living', 'floors', 'condition', 'grade', 'yr_built', 'lat', 'sqft_living15', 'waterfront', 'view']"
      ],
      "text/plain": [
       "<IPython.core.display.HTML object>"
      ]
     },
     "metadata": {},
     "output_type": "display_data"
    },
    {
     "data": {
      "text/html": [
       "<p>cv_selection chose the best of 1 11-feature combinations that met the constraints (out of 7 considered)"
      ],
      "text/plain": [
       "<IPython.core.display.HTML object>"
      ]
     },
     "metadata": {},
     "output_type": "display_data"
    },
    {
     "data": {
      "text/html": [
       "<p>6 11-feature combinations (out of 7 considered) failed to meet the constraints<p><br><br>"
      ],
      "text/plain": [
       "<IPython.core.display.HTML object>"
      ]
     },
     "metadata": {},
     "output_type": "display_data"
    },
    {
     "data": {
      "text/html": [
       "<p><br><br>Cross-validating ${17 \\choose 12}=6188$ combinations of 12 features (out of 17) over 5 folds using score <b>condition_no__and__pvals__and__rsquared__and__rsquared_adj__and__rmse__and__delta_rmse</b> and target cond. no = 100..."
      ],
      "text/plain": [
       "<IPython.core.display.HTML object>"
      ]
     },
     "metadata": {},
     "output_type": "display_data"
    },
    {
     "name": "stdout",
     "output_type": "stream",
     "text": [
      "new best condition_no__and__pvals__and__rsquared__and__rsquared_adj__and__rmse__and__delta_rmse score: (43.60378484508075, 0.7678609583638032, 0.7676996069008084, [6.082042848292615e-23, 7.1857220342318e-31, 1.5897269749863644e-210, 6.927037257508853e-06, 6.387076277718848e-30, 9.060320444904143e-67, 0.0, 0.0, 0.0, 2.5650327695227077e-92, 1.763652632810248e-76, 2.3655544394336403e-101], 0.05523716277684197, 0.0006396525521593241), from feature-set combo: ['bedrooms', 'bathrooms', 'sqft_living', 'sqft_lot', 'floors', 'condition', 'grade', 'yr_built', 'lat', 'sqft_living15', 'waterfront', 'view']\n",
      "new best condition_no__and__pvals__and__rsquared__and__rsquared_adj__and__rmse__and__delta_rmse score: (42.04567000550587, 0.7679646024144275, 0.7678033229898663, [3.1028273995830117e-21, 8.014372523700737e-32, 4.664431589964016e-206, 4.840091687828401e-41, 2.120399347557007e-72, 0.0, 1.5056922675532421e-282, 2.8759869674853144e-10, 0.0, 3.296274284346891e-87, 1.416402096625068e-71, 1.6808626876622547e-102], 0.05522477157523391, 0.0005865282159449828), from feature-set combo: ['bedrooms', 'bathrooms', 'sqft_living', 'floors', 'condition', 'grade', 'yr_built', 'yr_renovated', 'lat', 'sqft_living15', 'waterfront', 'view']\n",
      "new best condition_no__and__pvals__and__rsquared__and__rsquared_adj__and__rmse__and__delta_rmse score: (43.249706390574914, 0.7683728993580097, 0.7682119037268723, [2.3959774869485058e-23, 4.77786086782599e-29, 5.3529190705926406e-219, 2.2930223691225265e-27, 1.16077045925816e-68, 0.0, 0.0, 0.0, 2.9077566067357582e-98, 3.268594841566838e-14, 1.9855297346898016e-78, 2.377342485927811e-100], 0.055176227277439094, 0.0006453120457280956), from feature-set combo: ['bedrooms', 'bathrooms', 'sqft_living', 'floors', 'condition', 'grade', 'yr_built', 'lat', 'sqft_living15', 'sqft_lot15', 'waterfront', 'view']\n"
     ]
    },
    {
     "data": {
      "text/html": [
       "<p>DISCARDED 6182 12-feature combinations that were not based on prior optimal feature-combo ['bedrooms', 'bathrooms', 'sqft_living', 'floors', 'condition', 'grade', 'yr_built', 'lat', 'sqft_living15', 'waterfront', 'view']"
      ],
      "text/plain": [
       "<IPython.core.display.HTML object>"
      ]
     },
     "metadata": {},
     "output_type": "display_data"
    },
    {
     "data": {
      "text/html": [
       "<p>cv_selection chose the best of 3 12-feature combinations that met the constraints (out of 6 considered)"
      ],
      "text/plain": [
       "<IPython.core.display.HTML object>"
      ]
     },
     "metadata": {},
     "output_type": "display_data"
    },
    {
     "data": {
      "text/html": [
       "<p>3 12-feature combinations (out of 6 considered) failed to meet the constraints<p><br><br>"
      ],
      "text/plain": [
       "<IPython.core.display.HTML object>"
      ]
     },
     "metadata": {},
     "output_type": "display_data"
    },
    {
     "data": {
      "text/html": [
       "<p><br><br>Cross-validating ${17 \\choose 13}=2380$ combinations of 13 features (out of 17) over 5 folds using score <b>condition_no__and__pvals__and__rsquared__and__rsquared_adj__and__rmse__and__delta_rmse</b> and target cond. no = 100..."
      ],
      "text/plain": [
       "<IPython.core.display.HTML object>"
      ]
     },
     "metadata": {},
     "output_type": "display_data"
    },
    {
     "name": "stdout",
     "output_type": "stream",
     "text": [
      "new best condition_no__and__pvals__and__rsquared__and__rsquared_adj__and__rmse__and__delta_rmse score: (61.3304232016171, 0.7685462037290341, 0.7683719121947707, [3.6148412783416024e-23, 1.1738109656311759e-29, 1.944063984742404e-206, 0.00371898609188442, 2.1884647868347242e-28, 1.483553054210783e-69, 0.0, 0.0, 0.0, 7.079002766428403e-99, 1.0222932145730103e-10, 8.010502522832298e-79, 2.32778038176313e-100], 0.055155555024389444, 0.0005992394798979367), from feature-set combo: ['bedrooms', 'bathrooms', 'sqft_living', 'sqft_lot', 'floors', 'condition', 'grade', 'yr_built', 'lat', 'sqft_living15', 'sqft_lot15', 'waterfront', 'view']\n",
      "new best condition_no__and__pvals__and__rsquared__and__rsquared_adj__and__rmse__and__delta_rmse score: (43.25691611519713, 0.7690249991973636, 0.7688510682124465, [4.2332191951495267e-22, 1.0272608231280531e-24, 1.030371909723983e-217, 1.373190980880186e-25, 3.459433420085743e-75, 0.0, 1.0694996163995345e-274, 3.600193115972839e-11, 0.0, 2.868658612250349e-101, 2.365775433865501e-15, 1.0056977882841533e-75, 1.5354001219194732e-99], 0.05509849194647395, 0.0006601294426909779), from feature-set combo: ['bedrooms', 'bathrooms', 'sqft_living', 'floors', 'condition', 'grade', 'yr_built', 'yr_renovated', 'lat', 'sqft_living15', 'sqft_lot15', 'waterfront', 'view']\n"
     ]
    },
    {
     "data": {
      "text/html": [
       "<p>DISCARDED 2375 13-feature combinations that were not based on prior optimal feature-combo ['bedrooms', 'bathrooms', 'sqft_living', 'floors', 'condition', 'grade', 'yr_built', 'lat', 'sqft_living15', 'sqft_lot15', 'waterfront', 'view']"
      ],
      "text/plain": [
       "<IPython.core.display.HTML object>"
      ]
     },
     "metadata": {},
     "output_type": "display_data"
    },
    {
     "data": {
      "text/html": [
       "<p>cv_selection chose the best of 2 13-feature combinations that met the constraints (out of 5 considered)"
      ],
      "text/plain": [
       "<IPython.core.display.HTML object>"
      ]
     },
     "metadata": {},
     "output_type": "display_data"
    },
    {
     "data": {
      "text/html": [
       "<p>3 13-feature combinations (out of 5 considered) failed to meet the constraints<p><br><br>"
      ],
      "text/plain": [
       "<IPython.core.display.HTML object>"
      ]
     },
     "metadata": {},
     "output_type": "display_data"
    },
    {
     "data": {
      "text/html": [
       "<p><br><br>Cross-validating ${17 \\choose 14}=680$ combinations of 14 features (out of 17) over 5 folds using score <b>condition_no__and__pvals__and__rsquared__and__rsquared_adj__and__rmse__and__delta_rmse</b> and target cond. no = 100..."
      ],
      "text/plain": [
       "<IPython.core.display.HTML object>"
      ]
     },
     "metadata": {},
     "output_type": "display_data"
    },
    {
     "name": "stdout",
     "output_type": "stream",
     "text": [
      "new best condition_no__and__pvals__and__rsquared__and__rsquared_adj__and__rmse__and__delta_rmse score: (61.382917337693286, 0.769215028694199, 0.7690278616653186, [6.656508582401485e-22, 2.9545171514764363e-25, 6.5467937701243255e-205, 0.002237951032815362, 1.22060020891283e-26, 2.6812368604434636e-76, 0.0, 1.8223099880278867e-269, 1.892180989118086e-11, 0.0, 5.557096237011122e-102, 1.4572804527915796e-11, 4.225781198106465e-76, 1.5421566183122297e-99], 0.05507579564947056, 0.0006135379439864017), from feature-set combo: ['bedrooms', 'bathrooms', 'sqft_living', 'sqft_lot', 'floors', 'condition', 'grade', 'yr_built', 'yr_renovated', 'lat', 'sqft_living15', 'sqft_lot15', 'waterfront', 'view']\n"
     ]
    },
    {
     "data": {
      "text/html": [
       "<p>DISCARDED 676 14-feature combinations that were not based on prior optimal feature-combo ['bedrooms', 'bathrooms', 'sqft_living', 'floors', 'condition', 'grade', 'yr_built', 'yr_renovated', 'lat', 'sqft_living15', 'sqft_lot15', 'waterfront', 'view']"
      ],
      "text/plain": [
       "<IPython.core.display.HTML object>"
      ]
     },
     "metadata": {},
     "output_type": "display_data"
    },
    {
     "data": {
      "text/html": [
       "<p>cv_selection chose the best of 1 14-feature combinations that met the constraints (out of 4 considered)"
      ],
      "text/plain": [
       "<IPython.core.display.HTML object>"
      ]
     },
     "metadata": {},
     "output_type": "display_data"
    },
    {
     "data": {
      "text/html": [
       "<p>3 14-feature combinations (out of 4 considered) failed to meet the constraints<p><br><br>"
      ],
      "text/plain": [
       "<IPython.core.display.HTML object>"
      ]
     },
     "metadata": {},
     "output_type": "display_data"
    },
    {
     "data": {
      "text/html": [
       "<p><br><br>Cross-validating ${17 \\choose 15}=136$ combinations of 15 features (out of 17) over 5 folds using score <b>condition_no__and__pvals__and__rsquared__and__rsquared_adj__and__rmse__and__delta_rmse</b> and target cond. no = 100..."
      ],
      "text/plain": [
       "<IPython.core.display.HTML object>"
      ]
     },
     "metadata": {},
     "output_type": "display_data"
    },
    {
     "name": "stdout",
     "output_type": "stream",
     "text": [
      "new best condition_no__and__pvals__and__rsquared__and__rsquared_adj__and__rmse__and__delta_rmse score: (63.21149436159284, 0.7693242562035698, 0.7691238033995625, [7.904829390219449e-23, 1.4138479423339623e-26, 9.399083713104544e-126, 0.0055099190599695366, 3.218895787943788e-14, 2.134984133012824e-77, 0.0, 0.018369447725632718, 5.799293785069347e-271, 2.3352570742093205e-11, 0.0, 1.2411533720270234e-96, 1.3937937921398377e-11, 1.9757945635472998e-76, 2.6585584627253977e-101], 0.05506275444854354, 0.000589235987488955), from feature-set combo: ['bedrooms', 'bathrooms', 'sqft_living', 'sqft_lot', 'floors', 'condition', 'grade', 'sqft_above', 'yr_built', 'yr_renovated', 'lat', 'sqft_living15', 'sqft_lot15', 'waterfront', 'view']\n"
     ]
    },
    {
     "data": {
      "text/html": [
       "<p>DISCARDED 133 15-feature combinations that were not based on prior optimal feature-combo ['bedrooms', 'bathrooms', 'sqft_living', 'sqft_lot', 'floors', 'condition', 'grade', 'yr_built', 'yr_renovated', 'lat', 'sqft_living15', 'sqft_lot15', 'waterfront', 'view']"
      ],
      "text/plain": [
       "<IPython.core.display.HTML object>"
      ]
     },
     "metadata": {},
     "output_type": "display_data"
    },
    {
     "data": {
      "text/html": [
       "<p>cv_selection chose the best of 1 15-feature combinations that met the constraints (out of 3 considered)"
      ],
      "text/plain": [
       "<IPython.core.display.HTML object>"
      ]
     },
     "metadata": {},
     "output_type": "display_data"
    },
    {
     "data": {
      "text/html": [
       "<p>2 15-feature combinations (out of 3 considered) failed to meet the constraints<p><br><br>"
      ],
      "text/plain": [
       "<IPython.core.display.HTML object>"
      ]
     },
     "metadata": {},
     "output_type": "display_data"
    },
    {
     "data": {
      "text/html": [
       "<p><br><br>Cross-validating ${17 \\choose 16}=17$ combinations of 16 features (out of 17) over 5 folds using score <b>condition_no__and__pvals__and__rsquared__and__rsquared_adj__and__rmse__and__delta_rmse</b> and target cond. no = 100..."
      ],
      "text/plain": [
       "<IPython.core.display.HTML object>"
      ]
     },
     "metadata": {},
     "output_type": "display_data"
    },
    {
     "data": {
      "text/html": [
       "<p>DISCARDED 15 16-feature combinations that were not based on prior optimal feature-combo ['bedrooms', 'bathrooms', 'sqft_living', 'sqft_lot', 'floors', 'condition', 'grade', 'sqft_above', 'yr_built', 'yr_renovated', 'lat', 'sqft_living15', 'sqft_lot15', 'waterfront', 'view']"
      ],
      "text/plain": [
       "<IPython.core.display.HTML object>"
      ]
     },
     "metadata": {},
     "output_type": "display_data"
    },
    {
     "data": {
      "text/html": [
       "<p>2 16-feature combinations (out of 2 considered) failed to meet the constraints<p><br><br>"
      ],
      "text/plain": [
       "<IPython.core.display.HTML object>"
      ]
     },
     "metadata": {},
     "output_type": "display_data"
    },
    {
     "data": {
      "text/html": [
       "<p><br><br>Cross-validating ${17 \\choose 17}=1$ combinations of 17 features (out of 17) over 5 folds using score <b>condition_no__and__pvals__and__rsquared__and__rsquared_adj__and__rmse__and__delta_rmse</b> and target cond. no = 100..."
      ],
      "text/plain": [
       "<IPython.core.display.HTML object>"
      ]
     },
     "metadata": {},
     "output_type": "display_data"
    },
    {
     "data": {
      "text/html": [
       "<p>1 17-feature combinations (out of 1 considered) failed to meet the constraints<p><br><br>"
      ],
      "text/plain": [
       "<IPython.core.display.HTML object>"
      ]
     },
     "metadata": {},
     "output_type": "display_data"
    },
    {
     "data": {
      "text/html": [
       "<h2>Table of cv_selected Optimized Feature Combinations</h2>"
      ],
      "text/plain": [
       "<IPython.core.display.HTML object>"
      ]
     },
     "metadata": {},
     "output_type": "display_data"
    },
    {
     "data": {
      "text/html": [
       "<table border=\"1\" class=\"dataframe\">\n",
       "  <thead>\n",
       "    <tr style=\"text-align: right;\">\n",
       "      <th></th>\n",
       "      <th>n_features</th>\n",
       "      <th>features</th>\n",
       "      <th>condition_no</th>\n",
       "      <th>rsquared</th>\n",
       "      <th>rsquared_adj</th>\n",
       "      <th>pvals</th>\n",
       "      <th>rmse</th>\n",
       "      <th>delta_rmse</th>\n",
       "    </tr>\n",
       "  </thead>\n",
       "  <tbody>\n",
       "    <tr>\n",
       "      <th>0</th>\n",
       "      <td>1</td>\n",
       "      <td>[grade]</td>\n",
       "      <td>10.398457</td>\n",
       "      <td>0.495177</td>\n",
       "      <td>0.495147</td>\n",
       "      <td>[0.0]</td>\n",
       "      <td>0.081457</td>\n",
       "      <td>0.002175</td>\n",
       "    </tr>\n",
       "    <tr>\n",
       "      <th>1</th>\n",
       "      <td>2</td>\n",
       "      <td>[grade, lat]</td>\n",
       "      <td>12.119547</td>\n",
       "      <td>0.633065</td>\n",
       "      <td>0.633023</td>\n",
       "      <td>[0.0, 0.0]</td>\n",
       "      <td>0.069447</td>\n",
       "      <td>0.001429</td>\n",
       "    </tr>\n",
       "    <tr>\n",
       "      <th>2</th>\n",
       "      <td>3</td>\n",
       "      <td>[sqft_living, grade, lat]</td>\n",
       "      <td>23.059427</td>\n",
       "      <td>0.697092</td>\n",
       "      <td>0.697040</td>\n",
       "      <td>[0.0, 0.0, 0.0]</td>\n",
       "      <td>0.063097</td>\n",
       "      <td>0.002248</td>\n",
       "    </tr>\n",
       "    <tr>\n",
       "      <th>3</th>\n",
       "      <td>4</td>\n",
       "      <td>[sqft_living, grade, yr_built, lat]</td>\n",
       "      <td>25.850301</td>\n",
       "      <td>0.732311</td>\n",
       "      <td>0.732249</td>\n",
       "      <td>[0.0, 0.0, 0.0, 0.0]</td>\n",
       "      <td>0.059317</td>\n",
       "      <td>0.001438</td>\n",
       "    </tr>\n",
       "    <tr>\n",
       "      <th>4</th>\n",
       "      <td>5</td>\n",
       "      <td>[sqft_living, grade, yr_built, lat, view]</td>\n",
       "      <td>25.937651</td>\n",
       "      <td>0.745579</td>\n",
       "      <td>0.745505</td>\n",
       "      <td>[0.0, 0.0, 0.0, 0.0, 3.302006071723784e-180]</td>\n",
       "      <td>0.057828</td>\n",
       "      <td>0.001139</td>\n",
       "    </tr>\n",
       "    <tr>\n",
       "      <th>5</th>\n",
       "      <td>6</td>\n",
       "      <td>[sqft_living, grade, yr_built, lat, waterfront, view]</td>\n",
       "      <td>25.944601</td>\n",
       "      <td>0.751494</td>\n",
       "      <td>0.751408</td>\n",
       "      <td>[0.0, 0.0, 0.0, 0.0, 1.4999323877568508e-73, 8.019592966311212e-124]</td>\n",
       "      <td>0.057151</td>\n",
       "      <td>0.001105</td>\n",
       "    </tr>\n",
       "    <tr>\n",
       "      <th>6</th>\n",
       "      <td>7</td>\n",
       "      <td>[sqft_living, grade, yr_built, lat, sqft_living15, waterfront, view]</td>\n",
       "      <td>28.485567</td>\n",
       "      <td>0.756065</td>\n",
       "      <td>0.755966</td>\n",
       "      <td>[0.0, 0.0, 0.0, 0.0, 8.490848418791226e-63, 7.665457270653326e-76, 1.1759146318135877e-106]</td>\n",
       "      <td>0.056623</td>\n",
       "      <td>0.000549</td>\n",
       "    </tr>\n",
       "    <tr>\n",
       "      <th>7</th>\n",
       "      <td>8</td>\n",
       "      <td>[sqft_living, condition, grade, yr_built, lat, sqft_living15, waterfront, view]</td>\n",
       "      <td>30.552904</td>\n",
       "      <td>0.759800</td>\n",
       "      <td>0.759689</td>\n",
       "      <td>[0.0, 7.932724709031568e-55, 0.0, 5.3958714482552054e-241, 0.0, 3.5217135795389534e-66, 2.1689138546111176e-77, 2.5335029920332392e-107]</td>\n",
       "      <td>0.056188</td>\n",
       "      <td>0.000522</td>\n",
       "    </tr>\n",
       "    <tr>\n",
       "      <th>8</th>\n",
       "      <td>9</td>\n",
       "      <td>[sqft_living, floors, condition, grade, yr_built, lat, sqft_living15, waterfront, view]</td>\n",
       "      <td>30.781366</td>\n",
       "      <td>0.764123</td>\n",
       "      <td>0.764000</td>\n",
       "      <td>[0.0, 2.286352131293902e-63, 2.3232757484381992e-70, 0.0, 3.5278421003544324e-301, 0.0, 1.5922214112658357e-83, 7.397522148013244e-77, 2.218905005453981e-114]</td>\n",
       "      <td>0.055680</td>\n",
       "      <td>0.000530</td>\n",
       "    </tr>\n",
       "    <tr>\n",
       "      <th>9</th>\n",
       "      <td>10</td>\n",
       "      <td>[bathrooms, sqft_living, floors, condition, grade, yr_built, lat, sqft_living15, waterfront, view]</td>\n",
       "      <td>37.106264</td>\n",
       "      <td>0.765963</td>\n",
       "      <td>0.765828</td>\n",
       "      <td>[1.9659526477243157e-29, 5.3897317368783824e-192, 8.024729646809386e-45, 2.640352548811549e-63, 0.0, 0.0, 0.0, 1.0566619469096609e-88, 6.0021619368980755e-78, 1.0430277399055048e-110]</td>\n",
       "      <td>0.055462</td>\n",
       "      <td>0.000538</td>\n",
       "    </tr>\n",
       "    <tr>\n",
       "      <th>10</th>\n",
       "      <td>11</td>\n",
       "      <td>[bedrooms, bathrooms, sqft_living, floors, condition, grade, yr_built, lat, sqft_living15, waterfront, view]</td>\n",
       "      <td>42.037359</td>\n",
       "      <td>0.767373</td>\n",
       "      <td>0.767225</td>\n",
       "      <td>[1.9571705874681398e-22, 2.1778221039717163e-36, 4.364209074954858e-208, 1.761350620726711e-42, 2.7795490063173725e-66, 0.0, 0.0, 0.0, 7.582783821516294e-85, 3.319515974674874e-74, 3.223474140137781e-103]</td>\n",
       "      <td>0.055295</td>\n",
       "      <td>0.000572</td>\n",
       "    </tr>\n",
       "    <tr>\n",
       "      <th>11</th>\n",
       "      <td>12</td>\n",
       "      <td>[bedrooms, bathrooms, sqft_living, floors, condition, grade, yr_built, lat, sqft_living15, sqft_lot15, waterfront, view]</td>\n",
       "      <td>43.249706</td>\n",
       "      <td>0.768373</td>\n",
       "      <td>0.768212</td>\n",
       "      <td>[2.3959774869485058e-23, 4.77786086782599e-29, 5.3529190705926406e-219, 2.2930223691225265e-27, 1.16077045925816e-68, 0.0, 0.0, 0.0, 2.9077566067357582e-98, 3.268594841566838e-14, 1.9855297346898016e-78, 2.377342485927811e-100]</td>\n",
       "      <td>0.055176</td>\n",
       "      <td>0.000645</td>\n",
       "    </tr>\n",
       "    <tr>\n",
       "      <th>12</th>\n",
       "      <td>13</td>\n",
       "      <td>[bedrooms, bathrooms, sqft_living, floors, condition, grade, yr_built, yr_renovated, lat, sqft_living15, sqft_lot15, waterfront, view]</td>\n",
       "      <td>43.256916</td>\n",
       "      <td>0.769025</td>\n",
       "      <td>0.768851</td>\n",
       "      <td>[4.2332191951495267e-22, 1.0272608231280531e-24, 1.030371909723983e-217, 1.373190980880186e-25, 3.459433420085743e-75, 0.0, 1.0694996163995345e-274, 3.600193115972839e-11, 0.0, 2.868658612250349e-101, 2.365775433865501e-15, 1.0056977882841533e-75, 1.5354001219194732e-99]</td>\n",
       "      <td>0.055098</td>\n",
       "      <td>0.000660</td>\n",
       "    </tr>\n",
       "    <tr>\n",
       "      <th>13</th>\n",
       "      <td>14</td>\n",
       "      <td>[bedrooms, bathrooms, sqft_living, sqft_lot, floors, condition, grade, yr_built, yr_renovated, lat, sqft_living15, sqft_lot15, waterfront, view]</td>\n",
       "      <td>61.382917</td>\n",
       "      <td>0.769215</td>\n",
       "      <td>0.769028</td>\n",
       "      <td>[6.656508582401485e-22, 2.9545171514764363e-25, 6.5467937701243255e-205, 0.002237951032815362, 1.22060020891283e-26, 2.6812368604434636e-76, 0.0, 1.8223099880278867e-269, 1.892180989118086e-11, 0.0, 5.557096237011122e-102, 1.4572804527915796e-11, 4.225781198106465e-76, 1.5421566183122297e-99]</td>\n",
       "      <td>0.055076</td>\n",
       "      <td>0.000614</td>\n",
       "    </tr>\n",
       "    <tr>\n",
       "      <th>14</th>\n",
       "      <td>15</td>\n",
       "      <td>[bedrooms, bathrooms, sqft_living, sqft_lot, floors, condition, grade, sqft_above, yr_built, yr_renovated, lat, sqft_living15, sqft_lot15, waterfront, view]</td>\n",
       "      <td>63.211494</td>\n",
       "      <td>0.769324</td>\n",
       "      <td>0.769124</td>\n",
       "      <td>[7.904829390219449e-23, 1.4138479423339623e-26, 9.399083713104544e-126, 0.0055099190599695366, 3.218895787943788e-14, 2.134984133012824e-77, 0.0, 0.018369447725632718, 5.799293785069347e-271, 2.3352570742093205e-11, 0.0, 1.2411533720270234e-96, 1.3937937921398377e-11, 1.9757945635472998e-76, 2.6585584627253977e-101]</td>\n",
       "      <td>0.055063</td>\n",
       "      <td>0.000589</td>\n",
       "    </tr>\n",
       "  </tbody>\n",
       "</table>"
      ],
      "text/plain": [
       "<IPython.core.display.HTML object>"
      ]
     },
     "metadata": {},
     "output_type": "display_data"
    },
    {
     "data": {
      "text/html": [
       "<br>15 rows x 8 columns<br><br>"
      ],
      "text/plain": [
       "<IPython.core.display.HTML object>"
      ]
     },
     "metadata": {},
     "output_type": "display_data"
    },
    {
     "data": {
      "text/html": [
       "<h4>cv_selected best condition_no__and__pvals__and__rsquared__and__rsquared_adj__and__rmse__and__delta_rmse = (63.21149436159284, 0.7693242562035698, 0.7691238033995625, [7.904829390219449e-23, 1.4138479423339623e-26, 9.399083713104544e-126, 0.0055099190599695366, 3.218895787943788e-14, 2.134984133012824e-77, 0.0, 0.018369447725632718, 5.799293785069347e-271, 2.3352570742093205e-11, 0.0, 1.2411533720270234e-96, 1.3937937921398377e-11, 1.9757945635472998e-76, 2.6585584627253977e-101], 0.05506275444854354, 0.000589235987488955)</h4>"
      ],
      "text/plain": [
       "<IPython.core.display.HTML object>"
      ]
     },
     "metadata": {},
     "output_type": "display_data"
    },
    {
     "data": {
      "text/html": [
       "<h4>cv_selected best feature-set combo (15 of 17 features) ['bedrooms', 'bathrooms', 'sqft_living', 'sqft_lot', 'floors', 'condition', 'grade', 'sqft_above', 'yr_built', 'yr_renovated', 'lat', 'sqft_living15', 'sqft_lot15', 'waterfront', 'view'] based on condition_no__and__pvals__and__rsquared__and__rsquared_adj__and__rmse__and__delta_rmse scoring method with target cond. no. 100<h/4>"
      ],
      "text/plain": [
       "<IPython.core.display.HTML object>"
      ]
     },
     "metadata": {},
     "output_type": "display_data"
    },
    {
     "data": {
      "text/html": [
       "<h4>starting feature-set:['bedrooms', 'bathrooms', 'sqft_living', 'sqft_lot', 'floors', 'condition', 'grade', 'sqft_above', 'sqft_basement', 'yr_built', 'yr_renovated', 'lat', 'long', 'sqft_living15', 'sqft_lot15', 'waterfront', 'view']</h4>"
      ],
      "text/plain": [
       "<IPython.core.display.HTML object>"
      ]
     },
     "metadata": {},
     "output_type": "display_data"
    },
    {
     "data": {
      "text/html": [
       "<h4>cv_selection suggests dropping ['long', 'sqft_basement'].</h4>"
      ],
      "text/plain": [
       "<IPython.core.display.HTML object>"
      ]
     },
     "metadata": {},
     "output_type": "display_data"
    }
   ],
   "source": [
    "to_drop = []\n",
    "# select non-colinear statistically significant feature-subset with maximized R^2 and adj-R^2 \n",
    "#    and minimized RMSE and delta RMSE, cross-validated over 5 test/train k-folds\n",
    "(\n",
    "    kc_cv_sel_optimized_features_scores_df\n",
    "     , cv_sel_features\n",
    "    , score\n",
    "    , to_drop\n",
    ") = scjpnregression.cv_selection_dp(\n",
    "    kc_house_candidate_cv_selection_df.drop(target, axis=1)\n",
    "    , kc_house_candidate_cv_selection_df[[target]]\n",
    "    , folds=5\n",
    "    , smargs={'cond_no': 100}\n",
    ")"
   ]
  },
  {
   "cell_type": "code",
   "execution_count": 3,
   "metadata": {},
   "outputs": [
    {
     "name": "stdout",
     "output_type": "stream",
     "text": [
      "updated kc_cv_sel_optimized_features.csv\n"
     ]
    }
   ],
   "source": [
    "fname = 'kc_cv_sel_optimized_features.csv'\n",
    "kc_cv_sel_optimized_features.set_index('n_features').to_csv(fname, sep=',')\n",
    "print(\"updated {}\".format(fname))"
   ]
  }
 ],
 "metadata": {
  "file_extension": ".py",
  "kernelspec": {
   "display_name": "Python 3.6.9 64-bit ('learn-env': conda)",
   "language": "python",
   "name": "python36964bitlearnenvconda8e11370b031143a286dd4c02f8505fec"
  },
  "language_info": {
   "codemirror_mode": {
    "name": "ipython",
    "version": 3
   },
   "file_extension": ".py",
   "mimetype": "text/x-python",
   "name": "python",
   "nbconvert_exporter": "python",
   "pygments_lexer": "ipython3",
   "version": "3.6.9"
  },
  "mimetype": "text/x-python",
  "name": "python",
  "npconvert_exporter": "python",
  "pygments_lexer": "ipython3",
  "version": 3
 },
 "nbformat": 4,
 "nbformat_minor": 2
}
